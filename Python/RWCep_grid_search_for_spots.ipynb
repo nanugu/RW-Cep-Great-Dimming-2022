{
 "cells": [
  {
   "cell_type": "code",
   "execution_count": 1,
   "id": "e6693239-0608-4a3d-a958-6bfd2e9c5311",
   "metadata": {},
   "outputs": [
    {
     "name": "stdout",
     "output_type": "stream",
     "text": [
      "%pylab is deprecated, use %matplotlib inline and import the required libraries.\n",
      "Populating the interactive namespace from numpy and matplotlib\n"
     ]
    }
   ],
   "source": [
    "%pylab notebook\n",
    "import matplotlib.pyplot as plt\n",
    "import numpy as np\n",
    "import sys, os\n",
    "import pmoired"
   ]
  },
  {
   "cell_type": "code",
   "execution_count": 2,
   "id": "7107a031-f15a-42ee-95b2-e6993e98f7ca",
   "metadata": {},
   "outputs": [
    {
     "name": "stdout",
     "output_type": "stream",
     "text": [
      "loadOI: loading MYSTIC_L2.2023Jul21.RW_Cep.MIRCX_IDL.all_lbd.AVG10m.oifits\n",
      "  > insname: \"MIRCX\" targname: \"RW Cep\" pipeline: \"\"\n",
      "  > MJD: (208,) [ 60146.43827034789 .. 60146.47376080186 ]\n",
      "  > E1-E2-S1-S2-W1-W2 | WL: (56,) [ 1.983 .. 2.397 ] um (R~290) {'T3': 20, 'VIS': 15, 'VIS2': 15} | TELL: False \n"
     ]
    }
   ],
   "source": [
    "oi = pmoired.OI('../oifits_data/MYSTIC_L2.2023Jul21.RW_Cep.MIRCX_IDL.all_lbd.AVG10m.oifits')"
   ]
  },
  {
   "cell_type": "code",
   "execution_count": null,
   "id": "1a8c3a8f-0055-4705-b18d-0a8b4a8e3e39",
   "metadata": {},
   "outputs": [
    {
     "name": "stdout",
     "output_type": "stream",
     "text": [
      "Wed Aug 14 23:31:30 2024: running 24 fits on 12 processes\n",
      "Wed Aug 14 23:32:09 2024: [██..........................................................] 1/24  15min left\r"
     ]
    }
   ],
   "source": [
    "oi.setupFit({'obs':['V2', 'T3PHI'], \n",
    "            'max error':{'T3PHI':10},\n",
    "            'max relative error':{'V2':0.25},\n",
    "            'wl ranges': [(1.9, 2.29111111)]})\n",
    "\n",
    "m = {'star,alpha':       1.5, \n",
    "'star,diam':   2.7, \n",
    "'star,incl':   20, \n",
    "'star,projang':0, \n",
    "'star,profile':'$MU**$star,alpha',\n",
    "}\n",
    "prior = []\n",
    "expl = {'rand':{'star,projang':(-90, 90)}}\n",
    "# add spots\n",
    "Nspots = 3\n",
    "for i in range(Nspots):\n",
    "    k = 'spot%02d'%(i+1)\n",
    "    m.update({k+',fwhm':m['star,diam']/8, k+',f':0.0, \n",
    "              k+',x':'$'+k+',dist*np.sin($'+k+',PA)', \n",
    "              k+',y':'$'+k+',dist*np.cos($'+k+',PA)', \n",
    "              k+',dist':m['star,diam']/2*np.random.rand(), \n",
    "              k+',PA':2*np.pi*np.random.rand(), \n",
    "              })\n",
    "    prior += [(k+',dist', '<', 'star,diam/2'), \n",
    "              (k+',dist', '>', 0), \n",
    "              (k+',fwhm', '>', 'star,diam/10')]\n",
    "    expl['rand'].update({k+',dist':(m['star,diam']/8, m['star,diam']/2),\n",
    "                         k+',PA':(2*np.pi*i/Nspots, 2*np.pi*(i+1)/Nspots),\n",
    "                        })\n",
    "oi.gridFit(model=m, expl=expl, Nfits=24, prior=prior)\n",
    "oi.show(logV=True, imFov=3, imMax='99', imLegend=False, spectro=False)"
   ]
  },
  {
   "cell_type": "code",
   "execution_count": null,
   "id": "bc8876ff-3364-43ad-ba61-2f13c3ed9906",
   "metadata": {},
   "outputs": [],
   "source": [
    "mk = {'spot01,PA':   1.542, # +/- 0.015\n",
    "'spot01,dist': 0.892, # +/- 0.019\n",
    "'spot01,f':    0.111, # +/- 0.013\n",
    "'spot01,fwhm': 0.923, # +/- 0.030\n",
    "'spot02,PA':   2.976, # +/- 0.020\n",
    "'spot02,dist': 0.700, # +/- 0.023\n",
    "'spot02,f':    0.105, # +/- 0.011\n",
    "'spot02,fwhm': 0.796, # +/- 0.044\n",
    "'spot03,PA':   4.899, # +/- 0.014\n",
    "'spot03,dist': 0.629, # +/- 0.030\n",
    "'spot03,f':    0.076, # +/- 0.012\n",
    "'spot03,fwhm': 0.654, # +/- 0.068\n",
    "'star,alpha':  0.595, # +/- 0.085\n",
    "'star,diam':   2.518, # +/- 0.022\n",
    "'star,incl':   21.08, # +/- 1.43\n",
    "'star,projang':-165.05, # +/- 3.38\n",
    "'spot01,x':    '$spot01,dist*np.sin($spot01,PA)',\n",
    "'spot01,y':    '$spot01,dist*np.cos($spot01,PA)',\n",
    "'spot02,x':    '$spot02,dist*np.sin($spot02,PA)',\n",
    "'spot02,y':    '$spot02,dist*np.cos($spot02,PA)',\n",
    "'spot03,x':    '$spot03,dist*np.sin($spot03,PA)',\n",
    "'spot03,y':    '$spot03,dist*np.cos($spot03,PA)',\n",
    "'star,profile':'$MU**$star,alpha',\n",
    "}\n",
    "\n",
    "\n",
    "oi.setupFit({'obs':['V2', 'T3PHI'], \n",
    "            'max error':{'T3PHI':10},\n",
    "            'max relative error':{'V2':0.25},\n",
    "            })\n",
    "\n",
    "doNotFit = list(mk.keys())\n",
    "\n",
    "if True:   \n",
    "    # https://www.gemini.edu/observing/resources/near-ir-resources/spectroscopy/co-lines-and-band-heads\n",
    "    # 12C16O\n",
    "    CO = [2.2935, 2.3227, 2.3525]\n",
    "    mk.update({ 'envVEL':              1900,\n",
    "                'env,f':              0.,\n",
    "                'env,line_1_f':       1.0,\n",
    "                'env,line_1_truncexp': 10.0,\n",
    "                'env,line_1_wl0':     str(CO[0])+'*(1+$envVEL/3.e5)',\n",
    "                'env,line_2_f':       1.0,\n",
    "                'env,line_2_truncexp':'$env,line_1_truncexp',\n",
    "                'env,line_2_wl0':     str(CO[1])+'*(1+$envVEL/3.e5)',\n",
    "                'env,line_3_f':       1.0,\n",
    "                'env,line_3_truncexp':'$env,line_1_truncexp',\n",
    "                'env,line_3_wl0':     str(CO[2])+'*(1+$envVEL/3.e5)',\n",
    "                'env,diamin':'$star,diam',\n",
    "                'env,diamout':'2*$star,diam',\n",
    "               'env,profile':'$R**-2',\n",
    "               'env,az amp1':0.3,\n",
    "               'env,az projang1':45,    \n",
    "               'env,az amp2':0.3,\n",
    "               'env,az projang2':45,    \n",
    "               'env,az amp3':0.3,\n",
    "               'env,az projang3':45,    \n",
    "            })\n",
    "    # -- define global absorption\n",
    "    mk.update({'ABS1':0.8, 'ABS2':'$ABS1', 'ABS3':'$ABS1'})\n",
    "    for c in ['star', 'spot01', 'spot02', 'spot03']:\n",
    "        if c=='star':\n",
    "            mk[c+',line_1_f'] = '-$ABS1'\n",
    "            mk[c+',line_2_f'] = '-$ABS2'\n",
    "            mk[c+',line_3_f'] = '-$ABS3'\n",
    "        else:\n",
    "            mk[c+',line_1_f'] = '-$ABS1*$'+c+',f'\n",
    "            mk[c+',line_2_f'] = '-$ABS2*$'+c+',f'\n",
    "            mk[c+',line_3_f'] = '-$ABS3*$'+c+',f'\n",
    "        mk[c+',line_1_truncexp'] = '$env,line_1_truncexp'\n",
    "        mk[c+',line_2_truncexp'] = '$env,line_1_truncexp'\n",
    "        mk[c+',line_3_truncexp'] = '$env,line_1_truncexp'\n",
    "        mk[c+',line_1_wl0'] = '$env,line_1_wl0'\n",
    "        mk[c+',line_2_wl0'] = '$env,line_2_wl0'\n",
    "        mk[c+',line_3_wl0'] = '$env,line_3_wl0'\n",
    "    doNotFit.extend(['env,f', 'ABS1', 'ABS2', 'ABS3'])\n",
    "oi.doFit(mk, doNotFit=doNotFit)\n",
    "#pmoired.oimodels.computeLambdaParams(mk)\n",
    "oi.show(imFov=6, imWl0=[2.20, 2.312], imPow=0.5)"
   ]
  },
  {
   "cell_type": "code",
   "execution_count": null,
   "id": "4ea6018c-d225-4355-b52e-e19b95bb29d8",
   "metadata": {},
   "outputs": [],
   "source": [
    "plt.figure(oi.fig-1)\n",
    "plt.savefig('RW_Cep_Kband_model.pdf')\n",
    "plt.figure(oi.fig-2)\n",
    "plt.savefig('RW_Cep_Kband_fit.pdf')"
   ]
  }
 ],
 "metadata": {
  "kernelspec": {
   "display_name": "Python 3 (ipykernel)",
   "language": "python",
   "name": "python3"
  },
  "language_info": {
   "codemirror_mode": {
    "name": "ipython",
    "version": 3
   },
   "file_extension": ".py",
   "mimetype": "text/x-python",
   "name": "python",
   "nbconvert_exporter": "python",
   "pygments_lexer": "ipython3",
   "version": "3.9.15"
  }
 },
 "nbformat": 4,
 "nbformat_minor": 5
}
